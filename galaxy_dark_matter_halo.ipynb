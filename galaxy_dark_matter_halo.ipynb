{
 "cells": [
  {
   "cell_type": "markdown",
   "metadata": {},
   "source": [
    "# Galaxy Properties and Dark Matter Halo\n",
    "***\n",
    "\n",
    "The goal of this project is to predict galaxy properties from the properties of the dark matter haloes in which they form. As dark matter haloes cannot be directly observed, this connection is difficult to determine observationally, but can be derived with empirical models. The catalogues below for 10 different redshifts contain different halo properties (e.g. halo mass, peak mass through time, growth rate) that should be used as features, and galaxy properties (e.g. stellar mass and star formation rate) that should be used as labels. They are in the HDF5 format that can be read in python with the h5py or the pandas packages. The following non-exhaustive list contains suggested steps and ideas to achieve reasonable results.<br>\n",
    "1. Load the table and divide between features and labels\n",
    "2. Check which features correlate best with the labels\n",
    "3. Scale the features (depending on the ML algorithms to between 0 and 1)\n",
    "4. Split the data in training, validation, and test sets\n",
    "5. Test different ML algorithms. You should use at least 3 commonly used methods, e.g. random forests, SGD, SVM, neural networks\n",
    "6. Think about feature importance (using random forests)\n",
    "7. Think about regularization\n",
    "8. Think about dimensionality reduction (manifold learning)\n",
    "9. Plot learning curves - when do you stop?\n",
    "10. Determine the hyperparameters with the validation set\n",
    "11. What is the final score on the test set for each algorithm?\n",
    "***"
   ]
  },
  {
   "cell_type": "markdown",
   "metadata": {},
   "source": [
    "## Reading Datasets\n",
    "***"
   ]
  },
  {
   "cell_type": "code",
   "execution_count": 161,
   "metadata": {},
   "outputs": [],
   "source": [
    "import numpy as np\n",
    "import pandas as pd\n",
    "import matplotlib.pyplot as plt"
   ]
  },
  {
   "cell_type": "code",
   "execution_count": 192,
   "metadata": {},
   "outputs": [
    {
     "data": {
      "text/plain": [
       "20"
      ]
     },
     "execution_count": 192,
     "metadata": {},
     "output_type": "execute_result"
    }
   ],
   "source": [
    "pd.options.display.max_rows\n",
    "pd.set_option(\"display.max_rows\",20)\n",
    "pd.options.display.max_rows"
   ]
  },
  {
   "cell_type": "code",
   "execution_count": 193,
   "metadata": {},
   "outputs": [
    {
     "data": {
      "text/html": [
       "<div>\n",
       "<style scoped>\n",
       "    .dataframe tbody tr th:only-of-type {\n",
       "        vertical-align: middle;\n",
       "    }\n",
       "\n",
       "    .dataframe tbody tr th {\n",
       "        vertical-align: top;\n",
       "    }\n",
       "\n",
       "    .dataframe thead th {\n",
       "        text-align: right;\n",
       "    }\n",
       "</style>\n",
       "<table border=\"1\" class=\"dataframe\">\n",
       "  <thead>\n",
       "    <tr style=\"text-align: right;\">\n",
       "      <th></th>\n",
       "      <th>Halo_mass</th>\n",
       "      <th>Halo_growth_rate</th>\n",
       "      <th>Halo_mass_peak</th>\n",
       "      <th>Scale_peak_mass</th>\n",
       "      <th>Scale_half_mass</th>\n",
       "      <th>Halo_radius</th>\n",
       "      <th>Concentration</th>\n",
       "      <th>Halo_spin</th>\n",
       "      <th>Stellar_mass</th>\n",
       "    </tr>\n",
       "  </thead>\n",
       "  <tbody>\n",
       "    <tr>\n",
       "      <th>0</th>\n",
       "      <td>11.291506</td>\n",
       "      <td>0.000000</td>\n",
       "      <td>11.933064</td>\n",
       "      <td>0.52</td>\n",
       "      <td>0.26</td>\n",
       "      <td>0.153729</td>\n",
       "      <td>207.948105</td>\n",
       "      <td>0.03063</td>\n",
       "      <td>10.426738</td>\n",
       "    </tr>\n",
       "    <tr>\n",
       "      <th>1</th>\n",
       "      <td>11.107182</td>\n",
       "      <td>0.000000</td>\n",
       "      <td>11.269677</td>\n",
       "      <td>0.89</td>\n",
       "      <td>0.49</td>\n",
       "      <td>0.133456</td>\n",
       "      <td>119.950928</td>\n",
       "      <td>0.02274</td>\n",
       "      <td>9.099111</td>\n",
       "    </tr>\n",
       "    <tr>\n",
       "      <th>2</th>\n",
       "      <td>10.774375</td>\n",
       "      <td>5.415474</td>\n",
       "      <td>11.231920</td>\n",
       "      <td>0.38</td>\n",
       "      <td>0.30</td>\n",
       "      <td>0.103370</td>\n",
       "      <td>20.775208</td>\n",
       "      <td>0.00583</td>\n",
       "      <td>9.304751</td>\n",
       "    </tr>\n",
       "    <tr>\n",
       "      <th>3</th>\n",
       "      <td>9.996202</td>\n",
       "      <td>0.150599</td>\n",
       "      <td>10.529177</td>\n",
       "      <td>0.55</td>\n",
       "      <td>0.47</td>\n",
       "      <td>0.056887</td>\n",
       "      <td>39.662548</td>\n",
       "      <td>0.03998</td>\n",
       "      <td>7.168949</td>\n",
       "    </tr>\n",
       "    <tr>\n",
       "      <th>4</th>\n",
       "      <td>9.668787</td>\n",
       "      <td>0.000000</td>\n",
       "      <td>10.674248</td>\n",
       "      <td>0.65</td>\n",
       "      <td>0.26</td>\n",
       "      <td>0.044248</td>\n",
       "      <td>46.062977</td>\n",
       "      <td>0.02509</td>\n",
       "      <td>7.502442</td>\n",
       "    </tr>\n",
       "    <tr>\n",
       "      <th>5</th>\n",
       "      <td>10.447030</td>\n",
       "      <td>0.152119</td>\n",
       "      <td>10.585270</td>\n",
       "      <td>0.61</td>\n",
       "      <td>0.32</td>\n",
       "      <td>0.080730</td>\n",
       "      <td>35.526623</td>\n",
       "      <td>0.01161</td>\n",
       "      <td>7.077418</td>\n",
       "    </tr>\n",
       "    <tr>\n",
       "      <th>6</th>\n",
       "      <td>10.197127</td>\n",
       "      <td>0.000000</td>\n",
       "      <td>11.126522</td>\n",
       "      <td>0.31</td>\n",
       "      <td>0.25</td>\n",
       "      <td>0.066642</td>\n",
       "      <td>53.510662</td>\n",
       "      <td>0.05172</td>\n",
       "      <td>9.243076</td>\n",
       "    </tr>\n",
       "    <tr>\n",
       "      <th>7</th>\n",
       "      <td>10.087936</td>\n",
       "      <td>0.000000</td>\n",
       "      <td>10.844924</td>\n",
       "      <td>0.51</td>\n",
       "      <td>0.27</td>\n",
       "      <td>0.061287</td>\n",
       "      <td>32.989677</td>\n",
       "      <td>0.08682</td>\n",
       "      <td>7.735672</td>\n",
       "    </tr>\n",
       "    <tr>\n",
       "      <th>8</th>\n",
       "      <td>9.695172</td>\n",
       "      <td>0.000000</td>\n",
       "      <td>10.578727</td>\n",
       "      <td>0.36</td>\n",
       "      <td>0.20</td>\n",
       "      <td>0.045334</td>\n",
       "      <td>51.462311</td>\n",
       "      <td>0.01582</td>\n",
       "      <td>7.193423</td>\n",
       "    </tr>\n",
       "    <tr>\n",
       "      <th>9</th>\n",
       "      <td>9.543894</td>\n",
       "      <td>0.000000</td>\n",
       "      <td>10.437775</td>\n",
       "      <td>0.33</td>\n",
       "      <td>0.28</td>\n",
       "      <td>0.040366</td>\n",
       "      <td>40.288658</td>\n",
       "      <td>0.04155</td>\n",
       "      <td>7.630946</td>\n",
       "    </tr>\n",
       "    <tr>\n",
       "      <th>...</th>\n",
       "      <td>...</td>\n",
       "      <td>...</td>\n",
       "      <td>...</td>\n",
       "      <td>...</td>\n",
       "      <td>...</td>\n",
       "      <td>...</td>\n",
       "      <td>...</td>\n",
       "      <td>...</td>\n",
       "      <td>...</td>\n",
       "    </tr>\n",
       "    <tr>\n",
       "      <th>9990</th>\n",
       "      <td>10.591717</td>\n",
       "      <td>0.000000</td>\n",
       "      <td>10.591717</td>\n",
       "      <td>0.20</td>\n",
       "      <td>0.19</td>\n",
       "      <td>0.109939</td>\n",
       "      <td>1.527764</td>\n",
       "      <td>0.02539</td>\n",
       "      <td>7.332797</td>\n",
       "    </tr>\n",
       "    <tr>\n",
       "      <th>9991</th>\n",
       "      <td>9.668787</td>\n",
       "      <td>0.000000</td>\n",
       "      <td>9.844924</td>\n",
       "      <td>0.15</td>\n",
       "      <td>0.10</td>\n",
       "      <td>0.054136</td>\n",
       "      <td>15.254886</td>\n",
       "      <td>0.05530</td>\n",
       "      <td>7.017978</td>\n",
       "    </tr>\n",
       "    <tr>\n",
       "      <th>9992</th>\n",
       "      <td>9.610815</td>\n",
       "      <td>0.000000</td>\n",
       "      <td>9.862601</td>\n",
       "      <td>0.16</td>\n",
       "      <td>0.13</td>\n",
       "      <td>0.051780</td>\n",
       "      <td>4.807645</td>\n",
       "      <td>0.05918</td>\n",
       "      <td>7.145658</td>\n",
       "    </tr>\n",
       "    <tr>\n",
       "      <th>9993</th>\n",
       "      <td>8.941797</td>\n",
       "      <td>0.000000</td>\n",
       "      <td>9.695172</td>\n",
       "      <td>0.16</td>\n",
       "      <td>0.15</td>\n",
       "      <td>0.030986</td>\n",
       "      <td>9.441997</td>\n",
       "      <td>0.16092</td>\n",
       "      <td>7.089650</td>\n",
       "    </tr>\n",
       "    <tr>\n",
       "      <th>9994</th>\n",
       "      <td>9.543894</td>\n",
       "      <td>0.000000</td>\n",
       "      <td>10.008755</td>\n",
       "      <td>0.12</td>\n",
       "      <td>0.10</td>\n",
       "      <td>0.049209</td>\n",
       "      <td>2.281677</td>\n",
       "      <td>0.08399</td>\n",
       "      <td>7.365633</td>\n",
       "    </tr>\n",
       "    <tr>\n",
       "      <th>9995</th>\n",
       "      <td>9.743457</td>\n",
       "      <td>0.000000</td>\n",
       "      <td>10.554568</td>\n",
       "      <td>0.14</td>\n",
       "      <td>0.13</td>\n",
       "      <td>0.057354</td>\n",
       "      <td>6.897781</td>\n",
       "      <td>0.06762</td>\n",
       "      <td>8.976857</td>\n",
       "    </tr>\n",
       "    <tr>\n",
       "      <th>9996</th>\n",
       "      <td>10.521531</td>\n",
       "      <td>0.000000</td>\n",
       "      <td>10.521531</td>\n",
       "      <td>0.19</td>\n",
       "      <td>0.15</td>\n",
       "      <td>0.104220</td>\n",
       "      <td>2.815178</td>\n",
       "      <td>0.04520</td>\n",
       "      <td>7.061232</td>\n",
       "    </tr>\n",
       "    <tr>\n",
       "      <th>9997</th>\n",
       "      <td>9.862601</td>\n",
       "      <td>0.000000</td>\n",
       "      <td>10.264132</td>\n",
       "      <td>0.18</td>\n",
       "      <td>0.16</td>\n",
       "      <td>0.062848</td>\n",
       "      <td>4.803970</td>\n",
       "      <td>0.01185</td>\n",
       "      <td>8.211119</td>\n",
       "    </tr>\n",
       "    <tr>\n",
       "      <th>9998</th>\n",
       "      <td>10.021015</td>\n",
       "      <td>0.000000</td>\n",
       "      <td>10.197127</td>\n",
       "      <td>0.18</td>\n",
       "      <td>0.12</td>\n",
       "      <td>0.070971</td>\n",
       "      <td>4.847022</td>\n",
       "      <td>0.01289</td>\n",
       "      <td>7.761427</td>\n",
       "    </tr>\n",
       "    <tr>\n",
       "      <th>9999</th>\n",
       "      <td>9.543894</td>\n",
       "      <td>0.000000</td>\n",
       "      <td>10.077501</td>\n",
       "      <td>0.14</td>\n",
       "      <td>0.12</td>\n",
       "      <td>0.049228</td>\n",
       "      <td>4.492593</td>\n",
       "      <td>0.05278</td>\n",
       "      <td>8.089971</td>\n",
       "    </tr>\n",
       "  </tbody>\n",
       "</table>\n",
       "<p>10000 rows × 9 columns</p>\n",
       "</div>"
      ],
      "text/plain": [
       "      Halo_mass  Halo_growth_rate  Halo_mass_peak  Scale_peak_mass  \\\n",
       "0     11.291506          0.000000       11.933064             0.52   \n",
       "1     11.107182          0.000000       11.269677             0.89   \n",
       "2     10.774375          5.415474       11.231920             0.38   \n",
       "3      9.996202          0.150599       10.529177             0.55   \n",
       "4      9.668787          0.000000       10.674248             0.65   \n",
       "5     10.447030          0.152119       10.585270             0.61   \n",
       "6     10.197127          0.000000       11.126522             0.31   \n",
       "7     10.087936          0.000000       10.844924             0.51   \n",
       "8      9.695172          0.000000       10.578727             0.36   \n",
       "9      9.543894          0.000000       10.437775             0.33   \n",
       "...         ...               ...             ...              ...   \n",
       "9990  10.591717          0.000000       10.591717             0.20   \n",
       "9991   9.668787          0.000000        9.844924             0.15   \n",
       "9992   9.610815          0.000000        9.862601             0.16   \n",
       "9993   8.941797          0.000000        9.695172             0.16   \n",
       "9994   9.543894          0.000000       10.008755             0.12   \n",
       "9995   9.743457          0.000000       10.554568             0.14   \n",
       "9996  10.521531          0.000000       10.521531             0.19   \n",
       "9997   9.862601          0.000000       10.264132             0.18   \n",
       "9998  10.021015          0.000000       10.197127             0.18   \n",
       "9999   9.543894          0.000000       10.077501             0.14   \n",
       "\n",
       "      Scale_half_mass  Halo_radius  Concentration  Halo_spin  Stellar_mass  \n",
       "0                0.26     0.153729     207.948105    0.03063     10.426738  \n",
       "1                0.49     0.133456     119.950928    0.02274      9.099111  \n",
       "2                0.30     0.103370      20.775208    0.00583      9.304751  \n",
       "3                0.47     0.056887      39.662548    0.03998      7.168949  \n",
       "4                0.26     0.044248      46.062977    0.02509      7.502442  \n",
       "5                0.32     0.080730      35.526623    0.01161      7.077418  \n",
       "6                0.25     0.066642      53.510662    0.05172      9.243076  \n",
       "7                0.27     0.061287      32.989677    0.08682      7.735672  \n",
       "8                0.20     0.045334      51.462311    0.01582      7.193423  \n",
       "9                0.28     0.040366      40.288658    0.04155      7.630946  \n",
       "...               ...          ...            ...        ...           ...  \n",
       "9990             0.19     0.109939       1.527764    0.02539      7.332797  \n",
       "9991             0.10     0.054136      15.254886    0.05530      7.017978  \n",
       "9992             0.13     0.051780       4.807645    0.05918      7.145658  \n",
       "9993             0.15     0.030986       9.441997    0.16092      7.089650  \n",
       "9994             0.10     0.049209       2.281677    0.08399      7.365633  \n",
       "9995             0.13     0.057354       6.897781    0.06762      8.976857  \n",
       "9996             0.15     0.104220       2.815178    0.04520      7.061232  \n",
       "9997             0.16     0.062848       4.803970    0.01185      8.211119  \n",
       "9998             0.12     0.070971       4.847022    0.01289      7.761427  \n",
       "9999             0.12     0.049228       4.492593    0.05278      8.089971  \n",
       "\n",
       "[10000 rows x 9 columns]"
      ]
     },
     "execution_count": 193,
     "metadata": {},
     "output_type": "execute_result"
    }
   ],
   "source": [
    "#Reading dataset, Slicing, splitting, and scaling\n",
    "data_1 = pd.read_hdf(\"galaxies.Z00.h5\").iloc[:,0:9].iloc[:10000, :]\n",
    "data_1"
   ]
  },
  {
   "cell_type": "markdown",
   "metadata": {},
   "source": [
    "##  A closer look into the features\n",
    "***"
   ]
  },
  {
   "cell_type": "code",
   "execution_count": 163,
   "metadata": {},
   "outputs": [
    {
     "data": {
      "image/png": "[encoded data removed]",
      "text/plain": [
       "<Figure size 720x720 with 9 Axes>"
      ]
     },
     "metadata": {
      "needs_background": "light"
     },
     "output_type": "display_data"
    }
   ],
   "source": [
    "data_1_histograms= data_1.hist(bins=20, figsize=[10,10])"
   ]
  },
  {
   "cell_type": "markdown",
   "metadata": {},
   "source": [
    "The conclusion that can be drawn from the above histograms is\n",
    "-  Concentration, Halo_growth_rate, halo_radius, and halo_spin remains approximately constants as stellar mass increase. Hence we expect a small correlation between those features and stellar mass.\n",
    "-  Consentration, Halo_growth_rate,Halo_radius, halo_spin, scale_peak_mass, and stellar do not follow (approximately) Gaussian distribution, therefore for feature scalling, we will use min-max scaler.\n",
    "-  Halo_mass, halo_mass_peak and scale_half_mass approximately are distributed according to Gaussian, hence we will use standard scaler for feature scaling\n",
    "***"
   ]
  },
  {
   "cell_type": "markdown",
   "metadata": {},
   "source": [
    "## Correlation between Feature and Labels\n",
    "***"
   ]
  },
  {
   "cell_type": "code",
   "execution_count": 164,
   "metadata": {
    "scrolled": true
   },
   "outputs": [
    {
     "data": {
      "text/plain": [
       "Halo_spin          -0.169583\n",
       "Halo_growth_rate    0.128429\n",
       "Concentration       0.155169\n",
       "Scale_half_mass     0.243439\n",
       "Scale_peak_mass     0.285413\n",
       "Halo_radius         0.516154\n",
       "Halo_mass           0.746384\n",
       "Halo_mass_peak      0.842733\n",
       "Stellar_mass        1.000000\n",
       "Name: Stellar_mass, dtype: float64"
      ]
     },
     "execution_count": 164,
     "metadata": {},
     "output_type": "execute_result"
    }
   ],
   "source": [
    "corr_matrix = data_1.corr()\n",
    "corr_matrix.iloc[:, 8].sort_values()"
   ]
  },
  {
   "cell_type": "markdown",
   "metadata": {},
   "source": [
    "***"
   ]
  },
  {
   "cell_type": "markdown",
   "metadata": {},
   "source": [
    "## Data Preprocessing\n",
    "***\n"
   ]
  },
  {
   "cell_type": "code",
   "execution_count": 165,
   "metadata": {},
   "outputs": [],
   "source": [
    "from sklearn.preprocessing import Imputer, MinMaxScaler, StandardScaler\n",
    "from sklearn.cross_validation import train_test_split\n",
    "from sklearn.base import BaseEstimator, TransformerMixin\n",
    "from sklearn.pipeline import Pipeline, FeatureUnion\n",
    "\n",
    "#splitting feature and label\n",
    "dataset_1=data_1.copy()\n",
    "X=dataset_1.drop([\"Stellar_mass\"], axis=1)\n",
    "y= dataset_1[\"Stellar_mass\"]\n",
    "\n",
    "#splitting test and train set\n",
    "X_train, X_test, y_train, y_test = train_test_split(X, y, test_size=0.2, random_state=0)\n",
    "\n",
    "#define a custom transformer class for feature scaling \n",
    "class FeatureSelector(TransformerMixin, BaseEstimator):\n",
    "    def __init__(self, feature_list):\n",
    "        self.feature_list = feature_list\n",
    "    def fit(self, X, y=None):\n",
    "        return self\n",
    "    def transform(self, X):\n",
    "        return X[self.feature_list].values\n",
    "\n",
    "\n",
    "minmax_feature=[\"Concentration\", \"Halo_growth_rate\",\"Halo_radius\", \"Halo_spin\", \"Scale_peak_mass\" ]\n",
    "st_feature= [\"Halo_mass\", \"Halo_mass_peak\", \"Scale_half_mass\"] \n",
    "\n",
    "#minmax scaling pipleline\n",
    "minmax_steps= [(\"mm_selector\", FeatureSelector(minmax_feature)),\n",
    "               (\"imputer\", Imputer(strategy= \"mean\")), (\"mm_scaler\", MinMaxScaler())]\n",
    "minmax_pipe= Pipeline(minmax_steps)\n",
    "\n",
    "#standard scaling pipeline\n",
    "st_steps =  [(\"st_selector\", FeatureSelector(st_feature)),\n",
    "             (\"imputer\", Imputer(strategy= \"mean\")), (\"st_scaler\", StandardScaler())]\n",
    "st_pipe=Pipeline(st_steps)\n",
    "\n",
    "#combined pipeline to concateante output of the above two pipeline\n",
    "prep_pipe=FeatureUnion([(\"minmax\", minmax_pipe), (\"st\", st_pipe)])"
   ]
  },
  {
   "cell_type": "markdown",
   "metadata": {},
   "source": [
    "***"
   ]
  },
  {
   "cell_type": "markdown",
   "metadata": {},
   "source": [
    "## Regression problem using Random Forest, SVM, SGD\n",
    "***"
   ]
  },
  {
   "cell_type": "code",
   "execution_count": 173,
   "metadata": {},
   "outputs": [
    {
     "name": "stdout",
     "output_type": "stream",
     "text": [
      "RMSE CV score of Random forest is -0.055731054935235405\n"
     ]
    }
   ],
   "source": [
    "from sklearn.ensemble import RandomForestRegressor\n",
    "from sklearn.svm import SVR\n",
    "from sklearn.linear_model import SGDRegressor\n",
    "from sklearn.model_selection import cross_val_score\n",
    "\n",
    "\n",
    "#RF Regression\n",
    "RF_steps=[(\"prep\", prep_pipe), (\"RF\", RandomForestRegressor())]\n",
    "RF_regressor=Pipeline(RF_steps)\n",
    "CV_score=cross_val_score(RF_regressor, X_train, y_train, cv=5, scoring=\"neg_mean_squared_error\")\n",
    "print(f\"RMSE CV score of Random forest is {np.mean(CV_score)}\")\n",
    "\n",
    "\n"
   ]
  },
  {
   "cell_type": "code",
   "execution_count": 174,
   "metadata": {},
   "outputs": [
    {
     "name": "stdout",
     "output_type": "stream",
     "text": [
      "RMSE CV score of SVM is -0.06280872278958362\n"
     ]
    }
   ],
   "source": [
    "#SV Regression\n",
    "SV_steps=[(\"prep\", prep_pipe), (\"SV\", SVR())]\n",
    "SV_regressor=Pipeline(SV_steps)\n",
    "CV_score=cross_val_score(SV_regressor, X_train, y_train, cv=5, scoring=\"neg_mean_squared_error\")\n",
    "print(f\"RMSE CV score of SVM is {np.mean(CV_score)}\")\n"
   ]
  },
  {
   "cell_type": "code",
   "execution_count": 187,
   "metadata": {},
   "outputs": [
    {
     "name": "stdout",
     "output_type": "stream",
     "text": [
      "RMSE CV score of SGD is -0.18570378186261596\n"
     ]
    }
   ],
   "source": [
    "import warnings\n",
    "warnings.filterwarnings('ignore')\n",
    "\n",
    "\n",
    "#SGD Regression\n",
    "SGD_steps=[(\"prep\", prep_pipe), (\"SV\", SGDRegressor())]\n",
    "SGD_regressor=Pipeline(SGD_steps)\n",
    "CV_score=cross_val_score(SGD_regressor, X_train, y_train, cv=5, scoring=\"neg_mean_squared_error\")\n",
    "print(f\"RMSE CV score of SGD is {np.mean(CV_score)}\")"
   ]
  },
  {
   "cell_type": "code",
   "execution_count": 197,
   "metadata": {},
   "outputs": [
    {
     "name": "stdout",
     "output_type": "stream",
     "text": [
      "        target  RF Prediction  SVR Prediction  SGD Prediction\n",
      "9394  7.300076       7.513507        7.624021        7.875335\n",
      "898   8.134915       8.136692        8.796300        8.791017\n",
      "2398  7.263627       7.306505        7.368963        7.754252\n",
      "5906  7.257608       7.260084        7.222876        7.016933\n",
      "2343  8.079779       7.840764        7.939999        7.779820\n",
      "8225  8.596020       8.822126        8.609036        8.317001\n",
      "5506  7.428528       7.374510        7.471048        7.496447\n",
      "6451  7.494291       7.375457        7.422814        7.257120\n",
      "2670  7.218812       7.213939        7.226451        7.239834\n",
      "3497  9.967265      10.144886       10.156587        9.618787\n",
      "...        ...            ...             ...             ...\n",
      "5581  7.885168       7.941771        8.021562        8.268636\n",
      "7133  8.218892       8.453353        8.213134        7.918116\n",
      "4041  7.218858       7.352382        7.277623        7.427181\n",
      "4807  8.730278       8.368802        8.515618        8.130956\n",
      "1774  7.852029       7.620668        7.752844        7.850366\n",
      "1037  7.330343       7.643739        7.563180        7.597881\n",
      "2899  7.143646       7.130411        7.143960        7.242129\n",
      "9549  7.738158       7.602928        7.575907        7.520017\n",
      "2740  8.267066       8.896412        8.867667        8.616159\n",
      "6690  8.641109       7.831777        7.984991        7.810018\n",
      "\n",
      "[2000 rows x 4 columns]\n"
     ]
    },
    {
     "data": {
      "text/plain": [
       "<matplotlib.axes._subplots.AxesSubplot at 0x7f7f14a92320>"
      ]
     },
     "execution_count": 197,
     "metadata": {},
     "output_type": "execute_result"
    },
    {
     "data": {
      "image/png": "[encoded data removed]",
      "text/plain": [
       "<Figure size 432x288 with 1 Axes>"
      ]
     },
     "metadata": {
      "needs_background": "light"
     },
     "output_type": "display_data"
    },
    {
     "data": {
      "image/png": "[encoded data removed]",
      "text/plain": [
       "<Figure size 432x288 with 1 Axes>"
      ]
     },
     "metadata": {
      "needs_background": "light"
     },
     "output_type": "display_data"
    },
    {
     "data": {
      "image/png": "[encoded data removed]",
      "text/plain": [
       "<Figure size 432x288 with 1 Axes>"
      ]
     },
     "metadata": {
      "needs_background": "light"
     },
     "output_type": "display_data"
    }
   ],
   "source": [
    "warnings.filterwarnings('ignore')\n",
    "\n",
    "RF_regressor.fit(X_train, y_train)\n",
    "SV_regressor.fit(X_train, y_train)\n",
    "SGD_regressor.fit(X_train, y_train)\n",
    "report = pd.DataFrame({ \"target\": y_test, \"RF Prediction\":RF_regressor.predict(X_test), \n",
    "                      \"SVR Prediction\": SV_regressor.predict(X_test), \n",
    "                      \"SGD Prediction\": SGD_regressor.predict(X_test)})\n",
    "\n",
    "report.plot.scatter(x=\"RF Prediction\", \n",
    "                         y = \"target\")\n",
    "report.plot.scatter(x=\"SVR Prediction\", \n",
    "                         y = \"target\")\n",
    "report.plot.scatter(x=\"SGD Prediction\", \n",
    "                         y = \"target\")\n"
   ]
  },
  {
   "cell_type": "markdown",
   "metadata": {},
   "source": [
    "***"
   ]
  },
  {
   "cell_type": "code",
   "execution_count": 190,
   "metadata": {},
   "outputs": [
    {
     "data": {
      "text/plain": [
       "20"
      ]
     },
     "execution_count": 190,
     "metadata": {},
     "output_type": "execute_result"
    }
   ],
   "source": [
    "\n"
   ]
  },
  {
   "cell_type": "markdown",
   "metadata": {},
   "source": [
    "## Feature Importance \n",
    "***\n",
    "We use two different method to elimintae less correlated features, to avoid curse of dimensionality and fasten computations:\n",
    "1. "
   ]
  },
  {
   "cell_type": "code",
   "execution_count": null,
   "metadata": {},
   "outputs": [],
   "source": []
  },
  {
   "cell_type": "code",
   "execution_count": null,
   "metadata": {},
   "outputs": [],
   "source": []
  },
  {
   "cell_type": "code",
   "execution_count": null,
   "metadata": {},
   "outputs": [],
   "source": []
  },
  {
   "cell_type": "code",
   "execution_count": null,
   "metadata": {},
   "outputs": [],
   "source": []
  },
  {
   "cell_type": "code",
   "execution_count": null,
   "metadata": {},
   "outputs": [],
   "source": []
  },
  {
   "cell_type": "code",
   "execution_count": null,
   "metadata": {},
   "outputs": [],
   "source": []
  },
  {
   "cell_type": "code",
   "execution_count": null,
   "metadata": {},
   "outputs": [],
   "source": []
  },
  {
   "cell_type": "code",
   "execution_count": null,
   "metadata": {},
   "outputs": [],
   "source": []
  },
  {
   "cell_type": "code",
   "execution_count": null,
   "metadata": {},
   "outputs": [],
   "source": []
  },
  {
   "cell_type": "code",
   "execution_count": null,
   "metadata": {},
   "outputs": [],
   "source": []
  },
  {
   "cell_type": "code",
   "execution_count": null,
   "metadata": {},
   "outputs": [],
   "source": []
  }
 ],
 "metadata": {
  "kernelspec": {
   "display_name": "Python 3",
   "language": "python",
   "name": "python3"
  },
  "language_info": {
   "codemirror_mode": {
    "name": "ipython",
    "version": 3
   },
   "file_extension": ".py",
   "mimetype": "text/x-python",
   "name": "python",
   "nbconvert_exporter": "python",
   "pygments_lexer": "ipython3",
   "version": "3.7.1"
  }
 },
 "nbformat": 4,
 "nbformat_minor": 2
}
